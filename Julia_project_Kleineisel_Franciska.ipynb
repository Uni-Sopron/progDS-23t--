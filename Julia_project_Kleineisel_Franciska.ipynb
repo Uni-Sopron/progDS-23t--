{
 "cells": [
  {
   "cell_type": "markdown",
   "metadata": {},
   "source": [
    "# Euler projekt"
   ]
  },
  {
   "cell_type": "markdown",
   "metadata": {},
   "source": [
    "# Első kérdés:\n",
    "## Ha listázzuk azokat a természetes számokat 0 és 10 között, amik 3 vagy 5 többszörösei, a következő eredményt kapjuk: 3, 5, 6, 9, 10.\n",
    "## Ezen szorzók összege 33.\n",
    "## Keressük meg 3 vagy 5 többszöröseit 0 és 100 között."
   ]
  },
  {
   "cell_type": "code",
   "execution_count": 31,
   "metadata": {},
   "outputs": [
    {
     "data": {
      "text/plain": [
       "0"
      ]
     },
     "execution_count": 31,
     "metadata": {},
     "output_type": "execute_result"
    }
   ],
   "source": [
    "# Maradék ellenőrző\n",
    "\n",
    "15 % 3"
   ]
  },
  {
   "cell_type": "code",
   "execution_count": 32,
   "metadata": {},
   "outputs": [
    {
     "data": {
      "text/plain": [
       "true"
      ]
     },
     "execution_count": 32,
     "metadata": {},
     "output_type": "execute_result"
    }
   ],
   "source": [
    "# teszt: a szám osztható-e 3-mal?\n",
    "\n",
    "15 % 3 == 0"
   ]
  },
  {
   "cell_type": "code",
   "execution_count": 40,
   "metadata": {},
   "outputs": [
    {
     "data": {
      "text/plain": [
       "Euleregy (generic function with 2 methods)"
      ]
     },
     "execution_count": 40,
     "metadata": {},
     "output_type": "execute_result"
    }
   ],
   "source": [
    "# megoldás az első kérdésre:\n",
    "\n",
    "function Euleregy(n=10)\n",
    "    total =0\n",
    "    for i in 1:n\n",
    "        if i % 3 ==0 || i % 5 ==0\n",
    "            total = total + i\n",
    "        end\n",
    "    end\n",
    "    total\n",
    "end"
   ]
  },
  {
   "cell_type": "code",
   "execution_count": 39,
   "metadata": {},
   "outputs": [
    {
     "data": {
      "text/plain": [
       "2418"
      ]
     },
     "execution_count": 39,
     "metadata": {},
     "output_type": "execute_result"
    }
   ],
   "source": [
    "Euleregy(100)"
   ]
  },
  {
   "cell_type": "code",
   "execution_count": 43,
   "metadata": {},
   "outputs": [
    {
     "name": "stdout",
     "output_type": "stream",
     "text": [
      "9.78e-7\n"
     ]
    }
   ],
   "source": [
    "# mennyi idő ezt kiszámolni?\n",
    "\n",
    "println(@elapsed Euleregy(100))"
   ]
  },
  {
   "cell_type": "code",
   "execution_count": 36,
   "metadata": {},
   "outputs": [
    {
     "data": {
      "text/plain": [
       "100-element Vector{Int32}:\n",
       "   0\n",
       "   0\n",
       "   3\n",
       "   0\n",
       "   5\n",
       "   6\n",
       "   0\n",
       "   0\n",
       "   9\n",
       "  10\n",
       "   0\n",
       "  12\n",
       "   0\n",
       "   ⋮\n",
       "   0\n",
       "  90\n",
       "   0\n",
       "   0\n",
       "  93\n",
       "   0\n",
       "  95\n",
       "  96\n",
       "   0\n",
       "   0\n",
       "  99\n",
       " 100"
      ]
     },
     "execution_count": 36,
     "metadata": {},
     "output_type": "execute_result"
    }
   ],
   "source": [
    "# alternatív megoldás az első kérdésre:\n",
    "\n",
    "[ x % 3==0 || x % 5==0 ? x : 0 for x= 1:100]"
   ]
  },
  {
   "cell_type": "code",
   "execution_count": 37,
   "metadata": {},
   "outputs": [
    {
     "data": {
      "text/plain": [
       "2418"
      ]
     },
     "execution_count": 37,
     "metadata": {},
     "output_type": "execute_result"
    }
   ],
   "source": [
    "sum([ x % 3==0 || x % 5==0 ? x : 0 for x= 1:100])"
   ]
  },
  {
   "cell_type": "code",
   "execution_count": 41,
   "metadata": {},
   "outputs": [
    {
     "data": {
      "text/plain": [
       "Euleregy_v2 (generic function with 2 methods)"
      ]
     },
     "execution_count": 41,
     "metadata": {},
     "output_type": "execute_result"
    }
   ],
   "source": [
    "function Euleregy_v2(n=100)\n",
    "    total = sum([x % 3==0 || x % 5==0 ? x : 0 for x=1:n])\n",
    "    println(total)\n",
    "end"
   ]
  },
  {
   "cell_type": "code",
   "execution_count": 42,
   "metadata": {},
   "outputs": [
    {
     "name": "stdout",
     "output_type": "stream",
     "text": [
      "2418\n",
      "0.043471291\n"
     ]
    }
   ],
   "source": [
    "println(@elapsed Euleregy_v2(100))"
   ]
  },
  {
   "cell_type": "markdown",
   "metadata": {},
   "source": [
    "# Második kérdés:\n",
    "## A Fibonacci sorozat szerint, a következő szakasz az előző kettő szakasz összegéből jön létre.\n",
    "## Például ha az első két szakasz 1 és 2, a következő 10 szakasz a következőképpen alakul:\n",
    "## [1,2,3,5,8,13,21,34,55,89, ...]\n",
    "## A Fibonacci-sorozat azon tagjainak figyelembevételével, amelyek értéke nem haladja meg a négymilliót, keressük meg a páros értékű tagok összegét."
   ]
  },
  {
   "cell_type": "code",
   "execution_count": 45,
   "metadata": {},
   "outputs": [
    {
     "data": {
      "text/plain": [
       "true"
      ]
     },
     "execution_count": 45,
     "metadata": {},
     "output_type": "execute_result"
    }
   ],
   "source": [
    "# teszt:\n",
    "\n",
    "4000000 == 4e6"
   ]
  },
  {
   "cell_type": "code",
   "execution_count": 46,
   "metadata": {},
   "outputs": [
    {
     "data": {
      "text/plain": [
       "Eulerketto (generic function with 1 method)"
      ]
     },
     "execution_count": 46,
     "metadata": {},
     "output_type": "execute_result"
    }
   ],
   "source": [
    "# megoldás a második kérdésre:\n",
    "\n",
    "function Eulerketto()\n",
    "    (a, b) = (1, 2)\n",
    "    total = 2\n",
    "    while b < 4e6\n",
    "        (a, b) = (b, a+b)\n",
    "        if b % 2 == 0\n",
    "            total += b\n",
    "        end\n",
    "    end\n",
    "return total\n",
    "end"
   ]
  },
  {
   "cell_type": "code",
   "execution_count": 47,
   "metadata": {},
   "outputs": [
    {
     "data": {
      "text/plain": [
       "4613732"
      ]
     },
     "execution_count": 47,
     "metadata": {},
     "output_type": "execute_result"
    }
   ],
   "source": [
    "Eulerketto()"
   ]
  },
  {
   "cell_type": "markdown",
   "metadata": {},
   "source": [
    "# Harmadik kérdés:\n",
    "## A 13 195 prím tényezői: 5, 7, 13, 29.\n",
    "## Mi lesz 600 851 475 143 legnagyobb prím tényezője?"
   ]
  },
  {
   "cell_type": "code",
   "execution_count": 48,
   "metadata": {},
   "outputs": [
    {
     "data": {
      "text/plain": [
       "13195"
      ]
     },
     "execution_count": 48,
     "metadata": {},
     "output_type": "execute_result"
    }
   ],
   "source": [
    "# teszt ellenőrzés:\n",
    "\n",
    "5*7*13*29"
   ]
  },
  {
   "cell_type": "code",
   "execution_count": 50,
   "metadata": {},
   "outputs": [
    {
     "name": "stdout",
     "output_type": "stream",
     "text": [
      "50.0\n",
      "10.0\n",
      "2.0\n"
     ]
    }
   ],
   "source": [
    "# megoldás a harmadik kérdésre:\n",
    "\n",
    "n = 250\n",
    "d = 5\n",
    "\n",
    "while(n % d==0)\n",
    "    n = n/d\n",
    "    println(n)\n",
    "end"
   ]
  },
  {
   "cell_type": "code",
   "execution_count": 59,
   "metadata": {},
   "outputs": [
    {
     "data": {
      "text/plain": [
       "Eulerharomteszt (generic function with 1 method)"
      ]
     },
     "execution_count": 59,
     "metadata": {},
     "output_type": "execute_result"
    }
   ],
   "source": [
    "function Eulerharomteszt(n,d)\n",
    "    if(d>1)\n",
    "        while(n % d==0)\n",
    "            n = n/d\n",
    "        end\n",
    "    end\n",
    "    return n\n",
    "end"
   ]
  },
  {
   "cell_type": "code",
   "execution_count": 60,
   "metadata": {},
   "outputs": [
    {
     "data": {
      "text/plain": [
       "13195"
      ]
     },
     "execution_count": 60,
     "metadata": {},
     "output_type": "execute_result"
    }
   ],
   "source": [
    "Eulerharomteszt(13195,1)"
   ]
  },
  {
   "cell_type": "code",
   "execution_count": 61,
   "metadata": {},
   "outputs": [
    {
     "data": {
      "text/plain": [
       "1015.0"
      ]
     },
     "execution_count": 61,
     "metadata": {},
     "output_type": "execute_result"
    }
   ],
   "source": [
    "Eulerharomteszt(13195,13)"
   ]
  },
  {
   "cell_type": "code",
   "execution_count": 62,
   "metadata": {},
   "outputs": [
    {
     "name": "stdout",
     "output_type": "stream",
     "text": [
      "n and i: (15, 2)\n",
      "n and i: (5.0, 3)\n",
      "n and i: (5.0, 4)\n",
      "n and i: (1.0, 5)\n",
      "5\n"
     ]
    }
   ],
   "source": [
    "n = 15\n",
    "i = 2\n",
    "output = n\n",
    "\n",
    "while(n>1)\n",
    "    n = Eulerharomteszt(n,i)\n",
    "    println(\"n and i: \",(n,i))\n",
    "    \n",
    "    if(n>1)\n",
    "        i +=1\n",
    "    end\n",
    "end\n",
    "\n",
    "println(i)"
   ]
  },
  {
   "cell_type": "code",
   "execution_count": 63,
   "metadata": {},
   "outputs": [
    {
     "data": {
      "text/plain": [
       "Eulerharom (generic function with 2 methods)"
      ]
     },
     "execution_count": 63,
     "metadata": {},
     "output_type": "execute_result"
    }
   ],
   "source": [
    "n = 600851475143\n",
    "\n",
    "function Eulerharom(n)\n",
    "    i=2\n",
    "    while(n>1)\n",
    "        n = Eulerharomteszt(n,i)\n",
    "        if(n>1)\n",
    "            i +=1\n",
    "        end\n",
    "    end\n",
    "    return(i)\n",
    "end"
   ]
  },
  {
   "cell_type": "code",
   "execution_count": 64,
   "metadata": {},
   "outputs": [
    {
     "data": {
      "text/plain": [
       "17"
      ]
     },
     "execution_count": 64,
     "metadata": {},
     "output_type": "execute_result"
    }
   ],
   "source": [
    "Eulerharom(17)"
   ]
  },
  {
   "cell_type": "code",
   "execution_count": 65,
   "metadata": {},
   "outputs": [
    {
     "data": {
      "text/plain": [
       "29"
      ]
     },
     "execution_count": 65,
     "metadata": {},
     "output_type": "execute_result"
    }
   ],
   "source": [
    "Eulerharom(13195)"
   ]
  },
  {
   "cell_type": "code",
   "execution_count": 66,
   "metadata": {},
   "outputs": [
    {
     "data": {
      "text/plain": [
       "6857"
      ]
     },
     "execution_count": 66,
     "metadata": {},
     "output_type": "execute_result"
    }
   ],
   "source": [
    "Eulerharom(600851475143)"
   ]
  },
  {
   "cell_type": "markdown",
   "metadata": {},
   "source": [
    "# Negyedik kérdés:\n",
    "## A legnagyobb palindrom szám ami két darab két jegyű szám szorzata: 9009 = 91 * 99.\n",
    "## Keressük meg azt a legnagyobb palindrom számot, ami két darab három jegyű szám szorzata."
   ]
  },
  {
   "cell_type": "code",
   "execution_count": 67,
   "metadata": {},
   "outputs": [],
   "source": [
    "# megjegyzés:\n",
    "# string() számot string-gé alakít\n",
    "# reverse() fordított sorrendbe teszi a string elemeit"
   ]
  },
  {
   "cell_type": "code",
   "execution_count": 68,
   "metadata": {},
   "outputs": [
    {
     "data": {
      "text/plain": [
       "\"12345\""
      ]
     },
     "execution_count": 68,
     "metadata": {},
     "output_type": "execute_result"
    }
   ],
   "source": [
    "X = 12345\n",
    "string(X)"
   ]
  },
  {
   "cell_type": "code",
   "execution_count": 69,
   "metadata": {},
   "outputs": [
    {
     "data": {
      "text/plain": [
       "String"
      ]
     },
     "execution_count": 69,
     "metadata": {},
     "output_type": "execute_result"
    }
   ],
   "source": [
    "typeof(string(X))"
   ]
  },
  {
   "cell_type": "code",
   "execution_count": 70,
   "metadata": {},
   "outputs": [
    {
     "data": {
      "text/plain": [
       "\"54321\""
      ]
     },
     "execution_count": 70,
     "metadata": {},
     "output_type": "execute_result"
    }
   ],
   "source": [
    "reverse(string(X))"
   ]
  },
  {
   "cell_type": "code",
   "execution_count": 73,
   "metadata": {},
   "outputs": [
    {
     "data": {
      "text/plain": [
       "Eulernegy (generic function with 1 method)"
      ]
     },
     "execution_count": 73,
     "metadata": {},
     "output_type": "execute_result"
    }
   ],
   "source": [
    "function Eulernegy(n)\n",
    "    return reverse(string(n)) == string(n)\n",
    "end"
   ]
  },
  {
   "cell_type": "code",
   "execution_count": 74,
   "metadata": {},
   "outputs": [
    {
     "name": "stdout",
     "output_type": "stream",
     "text": [
      "true\n",
      "false\n",
      "true\n"
     ]
    }
   ],
   "source": [
    "println(Eulernegy(55))\n",
    "println(Eulernegy(5105))\n",
    "println(Eulernegy(9009))"
   ]
  },
  {
   "cell_type": "code",
   "execution_count": 77,
   "metadata": {},
   "outputs": [
    {
     "data": {
      "text/plain": [
       "900×900 Matrix{Int32}:\n",
       " 10000   10100   10200   10300   10400  …   99600   99700   99800   99900\n",
       " 10100   10201   10302   10403   10504     100596  100697  100798  100899\n",
       " 10200   10302   10404   10506   10608     101592  101694  101796  101898\n",
       " 10300   10403   10506   10609   10712     102588  102691  102794  102897\n",
       " 10400   10504   10608   10712   10816     103584  103688  103792  103896\n",
       " 10500   10605   10710   10815   10920  …  104580  104685  104790  104895\n",
       " 10600   10706   10812   10918   11024     105576  105682  105788  105894\n",
       " 10700   10807   10914   11021   11128     106572  106679  106786  106893\n",
       " 10800   10908   11016   11124   11232     107568  107676  107784  107892\n",
       " 10900   11009   11118   11227   11336     108564  108673  108782  108891\n",
       " 11000   11110   11220   11330   11440  …  109560  109670  109780  109890\n",
       " 11100   11211   11322   11433   11544     110556  110667  110778  110889\n",
       " 11200   11312   11424   11536   11648     111552  111664  111776  111888\n",
       "     ⋮                                  ⋱                          \n",
       " 98800   99788  100776  101764  102752     984048  985036  986024  987012\n",
       " 98900   99889  100878  101867  102856     985044  986033  987022  988011\n",
       " 99000   99990  100980  101970  102960  …  986040  987030  988020  989010\n",
       " 99100  100091  101082  102073  103064     987036  988027  989018  990009\n",
       " 99200  100192  101184  102176  103168     988032  989024  990016  991008\n",
       " 99300  100293  101286  102279  103272     989028  990021  991014  992007\n",
       " 99400  100394  101388  102382  103376     990024  991018  992012  993006\n",
       " 99500  100495  101490  102485  103480  …  991020  992015  993010  994005\n",
       " 99600  100596  101592  102588  103584     992016  993012  994008  995004\n",
       " 99700  100697  101694  102691  103688     993012  994009  995006  996003\n",
       " 99800  100798  101796  102794  103792     994008  995006  996004  997002\n",
       " 99900  100899  101898  102897  103896     995004  996003  997002  998001"
      ]
     },
     "execution_count": 77,
     "metadata": {},
     "output_type": "execute_result"
    }
   ],
   "source": [
    "# mátrix létrehozása:\n",
    "\n",
    "Szorzatok = [(x*y) for x in 100:999, y in 100:999]"
   ]
  },
  {
   "cell_type": "code",
   "execution_count": 78,
   "metadata": {},
   "outputs": [
    {
     "data": {
      "text/plain": [
       "810000-element Vector{Int32}:\n",
       "  10000\n",
       "  10100\n",
       "  10200\n",
       "  10300\n",
       "  10400\n",
       "  10500\n",
       "  10600\n",
       "  10700\n",
       "  10800\n",
       "  10900\n",
       "  11000\n",
       "  11100\n",
       "  11200\n",
       "      ⋮\n",
       " 987012\n",
       " 988011\n",
       " 989010\n",
       " 990009\n",
       " 991008\n",
       " 992007\n",
       " 993006\n",
       " 994005\n",
       " 995004\n",
       " 996003\n",
       " 997002\n",
       " 998001"
      ]
     },
     "execution_count": 78,
     "metadata": {},
     "output_type": "execute_result"
    }
   ],
   "source": [
    "# vektor létrehozása:\n",
    "\n",
    "Szorzatok = vec(Szorzatok)"
   ]
  },
  {
   "cell_type": "code",
   "execution_count": 79,
   "metadata": {},
   "outputs": [
    {
     "data": {
      "text/plain": [
       "810000-element BitVector:\n",
       " 0\n",
       " 0\n",
       " 0\n",
       " 0\n",
       " 0\n",
       " 0\n",
       " 0\n",
       " 0\n",
       " 0\n",
       " 0\n",
       " 0\n",
       " 0\n",
       " 0\n",
       " ⋮\n",
       " 0\n",
       " 0\n",
       " 0\n",
       " 0\n",
       " 0\n",
       " 0\n",
       " 0\n",
       " 0\n",
       " 0\n",
       " 0\n",
       " 0\n",
       " 0"
      ]
     },
     "execution_count": 79,
     "metadata": {},
     "output_type": "execute_result"
    }
   ],
   "source": [
    "# megoldás a negyedik kérdésre:\n",
    "\n",
    "Eulernegy.(Szorzatok)"
   ]
  },
  {
   "cell_type": "code",
   "execution_count": 80,
   "metadata": {},
   "outputs": [
    {
     "data": {
      "text/plain": [
       "2470-element Vector{Int32}:\n",
       "  10201\n",
       "  11211\n",
       "  12221\n",
       "  13231\n",
       "  14241\n",
       "  15251\n",
       "  16261\n",
       "  17271\n",
       "  18281\n",
       "  19291\n",
       "  20402\n",
       "  21412\n",
       "  22422\n",
       "      ⋮\n",
       " 485584\n",
       " 543345\n",
       " 592295\n",
       " 601106\n",
       " 650056\n",
       " 853358\n",
       " 141141\n",
       " 282282\n",
       " 119911\n",
       " 906609\n",
       " 514415\n",
       " 580085"
      ]
     },
     "execution_count": 80,
     "metadata": {},
     "output_type": "execute_result"
    }
   ],
   "source": [
    "Szorzatok = Szorzatok[Eulernegy.(Szorzatok)]"
   ]
  },
  {
   "cell_type": "code",
   "execution_count": 81,
   "metadata": {},
   "outputs": [
    {
     "data": {
      "text/plain": [
       "(10201, 906609)"
      ]
     },
     "execution_count": 81,
     "metadata": {},
     "output_type": "execute_result"
    }
   ],
   "source": [
    "extrema(Szorzatok)"
   ]
  },
  {
   "cell_type": "markdown",
   "metadata": {},
   "source": [
    "# Ötödik kérdés:\n",
    "## 2520 a legkisebb szám, ami maradék nélkül osztható az összes számmal 1 és 10 között.\n",
    "## Melyik a legkisebb pozitív szám, ami egyenlően osztható az összes számmal 1 és 20 között?"
   ]
  },
  {
   "cell_type": "code",
   "execution_count": 170,
   "metadata": {},
   "outputs": [
    {
     "name": "stdout",
     "output_type": "stream",
     "text": [
      "120\n",
      "58\n",
      "4\n",
      "2\n",
      "0\n"
     ]
    }
   ],
   "source": [
    "a = 120\n",
    "b = 178\n",
    "\n",
    "println(120 % 178)\n",
    "println(178 % 120)\n",
    "println(120 % 58)\n",
    "println(58 % 4)\n",
    "println(4 % 2)"
   ]
  },
  {
   "cell_type": "code",
   "execution_count": 171,
   "metadata": {},
   "outputs": [
    {
     "data": {
      "text/plain": [
       "Eulerot_lko (generic function with 3 methods)"
      ]
     },
     "execution_count": 171,
     "metadata": {},
     "output_type": "execute_result"
    }
   ],
   "source": [
    "function Eulerot_lko(a, b)\n",
    "    while b !=0\n",
    "        (a,b) = (b, a % b)\n",
    "    end\n",
    "    return a\n",
    "end"
   ]
  },
  {
   "cell_type": "code",
   "execution_count": 172,
   "metadata": {},
   "outputs": [
    {
     "data": {
      "text/plain": [
       "2"
      ]
     },
     "execution_count": 172,
     "metadata": {},
     "output_type": "execute_result"
    }
   ],
   "source": [
    "Eulerot_lko(178,120)"
   ]
  },
  {
   "cell_type": "code",
   "execution_count": 173,
   "metadata": {},
   "outputs": [
    {
     "data": {
      "text/plain": [
       "(120, 15)"
      ]
     },
     "execution_count": 173,
     "metadata": {},
     "output_type": "execute_result"
    }
   ],
   "source": [
    "a,b = 120,15"
   ]
  },
  {
   "cell_type": "code",
   "execution_count": 174,
   "metadata": {},
   "outputs": [
    {
     "data": {
      "text/plain": [
       "15"
      ]
     },
     "execution_count": 174,
     "metadata": {},
     "output_type": "execute_result"
    }
   ],
   "source": [
    "Eulerot_lko(a,b)"
   ]
  },
  {
   "cell_type": "code",
   "execution_count": 195,
   "metadata": {},
   "outputs": [
    {
     "data": {
      "text/plain": [
       "120"
      ]
     },
     "execution_count": 195,
     "metadata": {},
     "output_type": "execute_result"
    }
   ],
   "source": [
    "div(a*b,Eulerot_lko(a, b))"
   ]
  },
  {
   "cell_type": "code",
   "execution_count": 196,
   "metadata": {},
   "outputs": [
    {
     "data": {
      "text/plain": [
       "Eulerot (generic function with 3 methods)"
      ]
     },
     "execution_count": 196,
     "metadata": {},
     "output_type": "execute_result"
    }
   ],
   "source": [
    "function Eulerot(a,b)\n",
    "    return div(a*b,Eulerot_lko(a, b))\n",
    "end"
   ]
  },
  {
   "cell_type": "code",
   "execution_count": 197,
   "metadata": {},
   "outputs": [
    {
     "name": "stdout",
     "output_type": "stream",
     "text": [
      "1\n"
     ]
    }
   ],
   "source": [
    "println(Eulerot(1,2))"
   ]
  },
  {
   "cell_type": "code",
   "execution_count": 198,
   "metadata": {},
   "outputs": [
    {
     "name": "stdout",
     "output_type": "stream",
     "text": [
      "1\n",
      "1\n",
      "2\n",
      "1\n",
      "6\n",
      "1\n",
      "4\n",
      "3\n",
      "10\n"
     ]
    }
   ],
   "source": [
    "println(Eulerot(1,2))\n",
    "\n",
    "println(Eulerot(2,3))\n",
    "println(Eulerot(6,4))\n",
    "println(Eulerot(12,5))\n",
    "println(Eulerot(60,6))\n",
    "println(Eulerot(60,7))\n",
    "println(Eulerot(420,8))\n",
    "println(Eulerot(840,9))\n",
    "println(Eulerot(2520,10))"
   ]
  },
  {
   "cell_type": "code",
   "execution_count": 178,
   "metadata": {},
   "outputs": [
    {
     "name": "stdout",
     "output_type": "stream",
     "text": [
      "55\n"
     ]
    },
    {
     "data": {
      "text/plain": [
       "55"
      ]
     },
     "execution_count": 178,
     "metadata": {},
     "output_type": "execute_result"
    }
   ],
   "source": [
    "#megjegyzés:\n",
    "# reduce() használata\n",
    "\n",
    "println(1+2+3+4+5+6+7+8+9+10)\n",
    "\n",
    "reduce(+,1:10)"
   ]
  },
  {
   "cell_type": "code",
   "execution_count": 180,
   "metadata": {},
   "outputs": [
    {
     "data": {
      "text/plain": [
       "1"
      ]
     },
     "execution_count": 180,
     "metadata": {},
     "output_type": "execute_result"
    }
   ],
   "source": [
    "reduce(Eulerot,1:5)"
   ]
  },
  {
   "cell_type": "code",
   "execution_count": 181,
   "metadata": {},
   "outputs": [
    {
     "data": {
      "text/plain": [
       "1"
      ]
     },
     "execution_count": 181,
     "metadata": {},
     "output_type": "execute_result"
    }
   ],
   "source": [
    "reduce(Eulerot,1:6)"
   ]
  },
  {
   "cell_type": "code",
   "execution_count": 182,
   "metadata": {},
   "outputs": [
    {
     "data": {
      "text/plain": [
       "Eulerot_lksz (generic function with 3 methods)"
      ]
     },
     "execution_count": 182,
     "metadata": {},
     "output_type": "execute_result"
    }
   ],
   "source": [
    "function Eulerot_lksz(n)\n",
    "    reduce(Eulerot, 1:n)\n",
    "end"
   ]
  },
  {
   "cell_type": "code",
   "execution_count": 183,
   "metadata": {},
   "outputs": [
    {
     "data": {
      "text/plain": [
       "1"
      ]
     },
     "execution_count": 183,
     "metadata": {},
     "output_type": "execute_result"
    }
   ],
   "source": [
    "Eulerot_lksz(20)"
   ]
  },
  {
   "cell_type": "code",
   "execution_count": null,
   "metadata": {},
   "outputs": [],
   "source": []
  }
 ],
 "metadata": {
  "kernelspec": {
   "display_name": "Julia 1.9.1",
   "language": "julia",
   "name": "julia-1.9"
  },
  "language_info": {
   "file_extension": ".jl",
   "mimetype": "application/julia",
   "name": "julia",
   "version": "1.9.1"
  }
 },
 "nbformat": 4,
 "nbformat_minor": 2
}
